{
 "cells": [
  {
   "cell_type": "code",
   "execution_count": 18,
   "id": "5fb6cdd8-ada5-41d9-9223-282d7fa7e726",
   "metadata": {},
   "outputs": [],
   "source": [
    "import pandas as pd\n",
    "from sklearn.tree import DecisionTreeClassifier\n",
    "from sklearn.model_selection import train_test_split\n",
    "from sklearn.metrics import accuracy_score\n",
    "import matplotlib.pyplot as plt\n",
    "import seaborn as sns\n",
    "from sklearn.tree import DecisionTreeRegressor\n",
    "from sklearn.metrics import mean_squared_error"
   ]
  },
  {
   "cell_type": "code",
   "execution_count": 19,
   "id": "9396b9f2-f275-4cb9-9be0-d0d08f6ad93a",
   "metadata": {},
   "outputs": [],
   "source": [
    "#Cargamos el csv\n",
    "df = pd.read_csv('lista_tomates.csv')"
   ]
  },
  {
   "cell_type": "markdown",
   "id": "40e9e46a-ad04-4d40-8f53-14c344660fc5",
   "metadata": {},
   "source": [
    "# ANALISIS EXPLORATORIO DE LOS DATOS"
   ]
  },
  {
   "cell_type": "code",
   "execution_count": 48,
   "id": "2d8438ff-4b06-49ec-9d0b-a2eb12865b61",
   "metadata": {},
   "outputs": [
    {
     "data": {
      "text/html": [
       "<div>\n",
       "<style scoped>\n",
       "    .dataframe tbody tr th:only-of-type {\n",
       "        vertical-align: middle;\n",
       "    }\n",
       "\n",
       "    .dataframe tbody tr th {\n",
       "        vertical-align: top;\n",
       "    }\n",
       "\n",
       "    .dataframe thead th {\n",
       "        text-align: right;\n",
       "    }\n",
       "</style>\n",
       "<table border=\"1\" class=\"dataframe\">\n",
       "  <thead>\n",
       "    <tr style=\"text-align: right;\">\n",
       "      <th></th>\n",
       "      <th>Cultivo</th>\n",
       "      <th>Ubicaciones</th>\n",
       "      <th>Rendimiento</th>\n",
       "      <th>Tamano</th>\n",
       "      <th>Fertilizantes</th>\n",
       "    </tr>\n",
       "  </thead>\n",
       "  <tbody>\n",
       "    <tr>\n",
       "      <th>0</th>\n",
       "      <td>bola</td>\n",
       "      <td>El Ejido</td>\n",
       "      <td>8.01</td>\n",
       "      <td>1</td>\n",
       "      <td>True</td>\n",
       "    </tr>\n",
       "    <tr>\n",
       "      <th>1</th>\n",
       "      <td>de pera</td>\n",
       "      <td>Campohermoso</td>\n",
       "      <td>5.96</td>\n",
       "      <td>4</td>\n",
       "      <td>False</td>\n",
       "    </tr>\n",
       "    <tr>\n",
       "      <th>2</th>\n",
       "      <td>bola</td>\n",
       "      <td>La Mojonera</td>\n",
       "      <td>8.61</td>\n",
       "      <td>4</td>\n",
       "      <td>False</td>\n",
       "    </tr>\n",
       "    <tr>\n",
       "      <th>3</th>\n",
       "      <td>kumato</td>\n",
       "      <td>Nijar</td>\n",
       "      <td>9.85</td>\n",
       "      <td>4</td>\n",
       "      <td>True</td>\n",
       "    </tr>\n",
       "    <tr>\n",
       "      <th>4</th>\n",
       "      <td>rosa</td>\n",
       "      <td>El Ejido</td>\n",
       "      <td>9.17</td>\n",
       "      <td>4</td>\n",
       "      <td>False</td>\n",
       "    </tr>\n",
       "  </tbody>\n",
       "</table>\n",
       "</div>"
      ],
      "text/plain": [
       "    Cultivo   Ubicaciones  Rendimiento  Tamano  Fertilizantes\n",
       "0      bola      El Ejido         8.01       1           True\n",
       "1   de pera  Campohermoso         5.96       4          False\n",
       "2      bola   La Mojonera         8.61       4          False\n",
       "3    kumato         Nijar         9.85       4           True\n",
       "4      rosa      El Ejido         9.17       4          False"
      ]
     },
     "execution_count": 48,
     "metadata": {},
     "output_type": "execute_result"
    }
   ],
   "source": [
    "df.head()\n"
   ]
  },
  {
   "cell_type": "code",
   "execution_count": 21,
   "id": "e3cbeab2-8979-4faf-9968-946c96c140dc",
   "metadata": {},
   "outputs": [
    {
     "name": "stdout",
     "output_type": "stream",
     "text": [
      "<class 'pandas.core.frame.DataFrame'>\n",
      "RangeIndex: 5000 entries, 0 to 4999\n",
      "Data columns (total 5 columns):\n",
      " #   Column         Non-Null Count  Dtype  \n",
      "---  ------         --------------  -----  \n",
      " 0   Cultivo        5000 non-null   object \n",
      " 1   Ubicaciones    5000 non-null   object \n",
      " 2   Rendimiento    5000 non-null   float64\n",
      " 3   Tamano         5000 non-null   int64  \n",
      " 4   Fertilizantes  5000 non-null   bool   \n",
      "dtypes: bool(1), float64(1), int64(1), object(2)\n",
      "memory usage: 161.3+ KB\n"
     ]
    }
   ],
   "source": [
    "#Revisamos la información básica del DataFrame, como el número de filas, columnas y tipos de datos\n",
    "df.info()"
   ]
  },
  {
   "cell_type": "code",
   "execution_count": 22,
   "id": "b07bbdce-29e2-4c3b-924a-a18df732880b",
   "metadata": {},
   "outputs": [
    {
     "data": {
      "text/html": [
       "<div>\n",
       "<style scoped>\n",
       "    .dataframe tbody tr th:only-of-type {\n",
       "        vertical-align: middle;\n",
       "    }\n",
       "\n",
       "    .dataframe tbody tr th {\n",
       "        vertical-align: top;\n",
       "    }\n",
       "\n",
       "    .dataframe thead th {\n",
       "        text-align: right;\n",
       "    }\n",
       "</style>\n",
       "<table border=\"1\" class=\"dataframe\">\n",
       "  <thead>\n",
       "    <tr style=\"text-align: right;\">\n",
       "      <th></th>\n",
       "      <th>Rendimiento</th>\n",
       "      <th>Tamano</th>\n",
       "    </tr>\n",
       "  </thead>\n",
       "  <tbody>\n",
       "    <tr>\n",
       "      <th>count</th>\n",
       "      <td>5000.000000</td>\n",
       "      <td>5000.000000</td>\n",
       "    </tr>\n",
       "    <tr>\n",
       "      <th>mean</th>\n",
       "      <td>5.008944</td>\n",
       "      <td>2.476800</td>\n",
       "    </tr>\n",
       "    <tr>\n",
       "      <th>std</th>\n",
       "      <td>2.895066</td>\n",
       "      <td>1.115218</td>\n",
       "    </tr>\n",
       "    <tr>\n",
       "      <th>min</th>\n",
       "      <td>0.000000</td>\n",
       "      <td>1.000000</td>\n",
       "    </tr>\n",
       "    <tr>\n",
       "      <th>25%</th>\n",
       "      <td>2.490000</td>\n",
       "      <td>1.000000</td>\n",
       "    </tr>\n",
       "    <tr>\n",
       "      <th>50%</th>\n",
       "      <td>5.090000</td>\n",
       "      <td>2.000000</td>\n",
       "    </tr>\n",
       "    <tr>\n",
       "      <th>75%</th>\n",
       "      <td>7.510000</td>\n",
       "      <td>3.000000</td>\n",
       "    </tr>\n",
       "    <tr>\n",
       "      <th>max</th>\n",
       "      <td>9.990000</td>\n",
       "      <td>4.000000</td>\n",
       "    </tr>\n",
       "  </tbody>\n",
       "</table>\n",
       "</div>"
      ],
      "text/plain": [
       "       Rendimiento       Tamano\n",
       "count  5000.000000  5000.000000\n",
       "mean      5.008944     2.476800\n",
       "std       2.895066     1.115218\n",
       "min       0.000000     1.000000\n",
       "25%       2.490000     1.000000\n",
       "50%       5.090000     2.000000\n",
       "75%       7.510000     3.000000\n",
       "max       9.990000     4.000000"
      ]
     },
     "execution_count": 22,
     "metadata": {},
     "output_type": "execute_result"
    }
   ],
   "source": [
    "df.describe()"
   ]
  },
  {
   "cell_type": "code",
   "execution_count": 23,
   "id": "33c0e550-0e0b-4d1c-bff8-cb03f6677d7d",
   "metadata": {},
   "outputs": [
    {
     "data": {
      "text/plain": [
       "Cultivo          0\n",
       "Ubicaciones      0\n",
       "Rendimiento      0\n",
       "Tamano           0\n",
       "Fertilizantes    0\n",
       "dtype: int64"
      ]
     },
     "execution_count": 23,
     "metadata": {},
     "output_type": "execute_result"
    }
   ],
   "source": [
    "df.isnull().sum()"
   ]
  },
  {
   "cell_type": "code",
   "execution_count": 24,
   "id": "63f3c97a-0a95-4e45-b8ce-b7f70ba72366",
   "metadata": {},
   "outputs": [
    {
     "name": "stdout",
     "output_type": "stream",
     "text": [
      "Cantidad de Filas y columnas: (5000, 5)\n",
      "Nombre columnas: Index(['Cultivo', 'Ubicaciones', 'Rendimiento', 'Tamano', 'Fertilizantes'], dtype='object')\n"
     ]
    }
   ],
   "source": [
    "print('Cantidad de Filas y columnas:',df.shape)\n",
    "print('Nombre columnas:',df.columns)"
   ]
  },
  {
   "cell_type": "code",
   "execution_count": 25,
   "id": "60379d97-1eb3-4311-af4c-91e21c94d0a2",
   "metadata": {},
   "outputs": [
    {
     "data": {
      "text/plain": [
       "kumato             669\n",
       "Raf                646\n",
       " de pera           638\n",
       "corazon de buey    637\n",
       "rosa               603\n",
       "cherry             603\n",
       "bola               602\n",
       "verde              602\n",
       "Name: Cultivo, dtype: int64"
      ]
     },
     "execution_count": 25,
     "metadata": {},
     "output_type": "execute_result"
    }
   ],
   "source": [
    "df['Cultivo'].value_counts()"
   ]
  },
  {
   "cell_type": "code",
   "execution_count": 26,
   "id": "f3fc295a-64e8-43d3-972c-fb04b2bea910",
   "metadata": {},
   "outputs": [
    {
     "data": {
      "text/plain": [
       "False    2510\n",
       "True     2490\n",
       "Name: Fertilizantes, dtype: int64"
      ]
     },
     "execution_count": 26,
     "metadata": {},
     "output_type": "execute_result"
    }
   ],
   "source": [
    "df['Fertilizantes'].value_counts()"
   ]
  },
  {
   "cell_type": "code",
   "execution_count": 27,
   "id": "418a10e2-85cc-409c-af0f-8e9cdb02b44b",
   "metadata": {},
   "outputs": [
    {
     "data": {
      "image/png": "[encoded data removed]",
      "text/plain": [
       "<Figure size 432x288 with 2 Axes>"
      ]
     },
     "metadata": {
      "needs_background": "light"
     },
     "output_type": "display_data"
    }
   ],
   "source": [
    "#Visualizamos la distribución de los valores en las columnas numéricas mediante histogramas:\n",
    "df.hist()\n",
    "plt.show()"
   ]
  },
  {
   "cell_type": "code",
   "execution_count": 29,
   "id": "5784156c-2243-4b50-8c75-5ea7e2392d24",
   "metadata": {},
   "outputs": [
    {
     "data": {
      "image/png": "[encoded data removed]",
      "text/plain": [
       "<Figure size 432x288 with 2 Axes>"
      ]
     },
     "metadata": {
      "needs_background": "light"
     },
     "output_type": "display_data"
    }
   ],
   "source": [
    "#Calculamos la matriz de correlación entre las variables y visualizarla como un mapa de calor\n",
    "correlation_matrix = df.corr()\n",
    "sns.heatmap(correlation_matrix, annot=True)\n",
    "plt.show()"
   ]
  },
  {
   "cell_type": "code",
   "execution_count": null,
   "id": "1774e017-238e-48a7-a19e-623c8bcfc534",
   "metadata": {},
   "outputs": [],
   "source": [
    "\n",
    "\n",
    "# Cargar el archivo CSV\n",
    "data = pd.read_csv('tu_archivo.csv')\n",
    "\n",
    "# Dividir los datos en características (X) y variable objetivo (y)\n",
    "X = data.drop('variable_objetivo', axis=1)\n",
    "y = data['variable_objetivo']\n",
    "\n",
    "# Dividir los datos en conjuntos de entrenamiento y prueba\n",
    "X_train, X_test, y_train, y_test = train_test_split(X, y, test_size=0.2, random_state=42)\n",
    "\n",
    "# Crear el modelo de árbol de decisión de regresión\n",
    "model = DecisionTreeRegressor()\n",
    "\n",
    "# Entrenar el modelo\n",
    "model.fit(X_train, y_train)\n",
    "\n",
    "# Hacer predicciones en el conjunto de prueba\n",
    "y_pred = model.predict(X_test)\n",
    "\n",
    "# Calcular el error cuadrático medio (MSE)\n",
    "mse = mean_squared_error(y_test, y_pred)\n",
    "print(\"Error cuadrático medio:\", mse)"
   ]
  },
  {
   "cell_type": "code",
   "execution_count": 49,
   "id": "c4ff65cc-587f-4b6b-b881-111375dc2cd3",
   "metadata": {},
   "outputs": [
    {
     "data": {
      "text/html": [
       "<div>\n",
       "<style scoped>\n",
       "    .dataframe tbody tr th:only-of-type {\n",
       "        vertical-align: middle;\n",
       "    }\n",
       "\n",
       "    .dataframe tbody tr th {\n",
       "        vertical-align: top;\n",
       "    }\n",
       "\n",
       "    .dataframe thead th {\n",
       "        text-align: right;\n",
       "    }\n",
       "</style>\n",
       "<table border=\"1\" class=\"dataframe\">\n",
       "  <thead>\n",
       "    <tr style=\"text-align: right;\">\n",
       "      <th></th>\n",
       "      <th>Rendimiento</th>\n",
       "      <th>Tamano</th>\n",
       "      <th>Fertilizantes</th>\n",
       "      <th>Cultivo_ de pera</th>\n",
       "      <th>Cultivo_Raf</th>\n",
       "      <th>Cultivo_bola</th>\n",
       "      <th>Cultivo_cherry</th>\n",
       "      <th>Cultivo_corazon de buey</th>\n",
       "      <th>Cultivo_kumato</th>\n",
       "      <th>Cultivo_rosa</th>\n",
       "      <th>Cultivo_verde</th>\n",
       "      <th>Ubicaciones_Campohermoso</th>\n",
       "      <th>Ubicaciones_El Alquian</th>\n",
       "      <th>Ubicaciones_El Ejido</th>\n",
       "      <th>Ubicaciones_La Mojonera</th>\n",
       "      <th>Ubicaciones_Nijar</th>\n",
       "    </tr>\n",
       "  </thead>\n",
       "  <tbody>\n",
       "    <tr>\n",
       "      <th>0</th>\n",
       "      <td>8.01</td>\n",
       "      <td>1</td>\n",
       "      <td>True</td>\n",
       "      <td>0</td>\n",
       "      <td>0</td>\n",
       "      <td>1</td>\n",
       "      <td>0</td>\n",
       "      <td>0</td>\n",
       "      <td>0</td>\n",
       "      <td>0</td>\n",
       "      <td>0</td>\n",
       "      <td>0</td>\n",
       "      <td>0</td>\n",
       "      <td>1</td>\n",
       "      <td>0</td>\n",
       "      <td>0</td>\n",
       "    </tr>\n",
       "    <tr>\n",
       "      <th>1</th>\n",
       "      <td>5.96</td>\n",
       "      <td>4</td>\n",
       "      <td>False</td>\n",
       "      <td>1</td>\n",
       "      <td>0</td>\n",
       "      <td>0</td>\n",
       "      <td>0</td>\n",
       "      <td>0</td>\n",
       "      <td>0</td>\n",
       "      <td>0</td>\n",
       "      <td>0</td>\n",
       "      <td>1</td>\n",
       "      <td>0</td>\n",
       "      <td>0</td>\n",
       "      <td>0</td>\n",
       "      <td>0</td>\n",
       "    </tr>\n",
       "    <tr>\n",
       "      <th>2</th>\n",
       "      <td>8.61</td>\n",
       "      <td>4</td>\n",
       "      <td>False</td>\n",
       "      <td>0</td>\n",
       "      <td>0</td>\n",
       "      <td>1</td>\n",
       "      <td>0</td>\n",
       "      <td>0</td>\n",
       "      <td>0</td>\n",
       "      <td>0</td>\n",
       "      <td>0</td>\n",
       "      <td>0</td>\n",
       "      <td>0</td>\n",
       "      <td>0</td>\n",
       "      <td>1</td>\n",
       "      <td>0</td>\n",
       "    </tr>\n",
       "    <tr>\n",
       "      <th>3</th>\n",
       "      <td>9.85</td>\n",
       "      <td>4</td>\n",
       "      <td>True</td>\n",
       "      <td>0</td>\n",
       "      <td>0</td>\n",
       "      <td>0</td>\n",
       "      <td>0</td>\n",
       "      <td>0</td>\n",
       "      <td>1</td>\n",
       "      <td>0</td>\n",
       "      <td>0</td>\n",
       "      <td>0</td>\n",
       "      <td>0</td>\n",
       "      <td>0</td>\n",
       "      <td>0</td>\n",
       "      <td>1</td>\n",
       "    </tr>\n",
       "    <tr>\n",
       "      <th>4</th>\n",
       "      <td>9.17</td>\n",
       "      <td>4</td>\n",
       "      <td>False</td>\n",
       "      <td>0</td>\n",
       "      <td>0</td>\n",
       "      <td>0</td>\n",
       "      <td>0</td>\n",
       "      <td>0</td>\n",
       "      <td>0</td>\n",
       "      <td>1</td>\n",
       "      <td>0</td>\n",
       "      <td>0</td>\n",
       "      <td>0</td>\n",
       "      <td>1</td>\n",
       "      <td>0</td>\n",
       "      <td>0</td>\n",
       "    </tr>\n",
       "    <tr>\n",
       "      <th>...</th>\n",
       "      <td>...</td>\n",
       "      <td>...</td>\n",
       "      <td>...</td>\n",
       "      <td>...</td>\n",
       "      <td>...</td>\n",
       "      <td>...</td>\n",
       "      <td>...</td>\n",
       "      <td>...</td>\n",
       "      <td>...</td>\n",
       "      <td>...</td>\n",
       "      <td>...</td>\n",
       "      <td>...</td>\n",
       "      <td>...</td>\n",
       "      <td>...</td>\n",
       "      <td>...</td>\n",
       "      <td>...</td>\n",
       "    </tr>\n",
       "    <tr>\n",
       "      <th>4995</th>\n",
       "      <td>4.57</td>\n",
       "      <td>2</td>\n",
       "      <td>True</td>\n",
       "      <td>0</td>\n",
       "      <td>1</td>\n",
       "      <td>0</td>\n",
       "      <td>0</td>\n",
       "      <td>0</td>\n",
       "      <td>0</td>\n",
       "      <td>0</td>\n",
       "      <td>0</td>\n",
       "      <td>0</td>\n",
       "      <td>0</td>\n",
       "      <td>0</td>\n",
       "      <td>1</td>\n",
       "      <td>0</td>\n",
       "    </tr>\n",
       "    <tr>\n",
       "      <th>4996</th>\n",
       "      <td>5.82</td>\n",
       "      <td>1</td>\n",
       "      <td>False</td>\n",
       "      <td>0</td>\n",
       "      <td>1</td>\n",
       "      <td>0</td>\n",
       "      <td>0</td>\n",
       "      <td>0</td>\n",
       "      <td>0</td>\n",
       "      <td>0</td>\n",
       "      <td>0</td>\n",
       "      <td>1</td>\n",
       "      <td>0</td>\n",
       "      <td>0</td>\n",
       "      <td>0</td>\n",
       "      <td>0</td>\n",
       "    </tr>\n",
       "    <tr>\n",
       "      <th>4997</th>\n",
       "      <td>9.71</td>\n",
       "      <td>4</td>\n",
       "      <td>False</td>\n",
       "      <td>0</td>\n",
       "      <td>0</td>\n",
       "      <td>0</td>\n",
       "      <td>1</td>\n",
       "      <td>0</td>\n",
       "      <td>0</td>\n",
       "      <td>0</td>\n",
       "      <td>0</td>\n",
       "      <td>0</td>\n",
       "      <td>1</td>\n",
       "      <td>0</td>\n",
       "      <td>0</td>\n",
       "      <td>0</td>\n",
       "    </tr>\n",
       "    <tr>\n",
       "      <th>4998</th>\n",
       "      <td>1.69</td>\n",
       "      <td>2</td>\n",
       "      <td>True</td>\n",
       "      <td>0</td>\n",
       "      <td>0</td>\n",
       "      <td>0</td>\n",
       "      <td>1</td>\n",
       "      <td>0</td>\n",
       "      <td>0</td>\n",
       "      <td>0</td>\n",
       "      <td>0</td>\n",
       "      <td>1</td>\n",
       "      <td>0</td>\n",
       "      <td>0</td>\n",
       "      <td>0</td>\n",
       "      <td>0</td>\n",
       "    </tr>\n",
       "    <tr>\n",
       "      <th>4999</th>\n",
       "      <td>6.08</td>\n",
       "      <td>1</td>\n",
       "      <td>False</td>\n",
       "      <td>0</td>\n",
       "      <td>0</td>\n",
       "      <td>1</td>\n",
       "      <td>0</td>\n",
       "      <td>0</td>\n",
       "      <td>0</td>\n",
       "      <td>0</td>\n",
       "      <td>0</td>\n",
       "      <td>0</td>\n",
       "      <td>0</td>\n",
       "      <td>0</td>\n",
       "      <td>1</td>\n",
       "      <td>0</td>\n",
       "    </tr>\n",
       "  </tbody>\n",
       "</table>\n",
       "<p>5000 rows × 16 columns</p>\n",
       "</div>"
      ],
      "text/plain": [
       "      Rendimiento  Tamano  Fertilizantes  Cultivo_ de pera  Cultivo_Raf  \\\n",
       "0            8.01       1           True                 0            0   \n",
       "1            5.96       4          False                 1            0   \n",
       "2            8.61       4          False                 0            0   \n",
       "3            9.85       4           True                 0            0   \n",
       "4            9.17       4          False                 0            0   \n",
       "...           ...     ...            ...               ...          ...   \n",
       "4995         4.57       2           True                 0            1   \n",
       "4996         5.82       1          False                 0            1   \n",
       "4997         9.71       4          False                 0            0   \n",
       "4998         1.69       2           True                 0            0   \n",
       "4999         6.08       1          False                 0            0   \n",
       "\n",
       "      Cultivo_bola  Cultivo_cherry  Cultivo_corazon de buey  Cultivo_kumato  \\\n",
       "0                1               0                        0               0   \n",
       "1                0               0                        0               0   \n",
       "2                1               0                        0               0   \n",
       "3                0               0                        0               1   \n",
       "4                0               0                        0               0   \n",
       "...            ...             ...                      ...             ...   \n",
       "4995             0               0                        0               0   \n",
       "4996             0               0                        0               0   \n",
       "4997             0               1                        0               0   \n",
       "4998             0               1                        0               0   \n",
       "4999             1               0                        0               0   \n",
       "\n",
       "      Cultivo_rosa  Cultivo_verde  Ubicaciones_Campohermoso  \\\n",
       "0                0              0                         0   \n",
       "1                0              0                         1   \n",
       "2                0              0                         0   \n",
       "3                0              0                         0   \n",
       "4                1              0                         0   \n",
       "...            ...            ...                       ...   \n",
       "4995             0              0                         0   \n",
       "4996             0              0                         1   \n",
       "4997             0              0                         0   \n",
       "4998             0              0                         1   \n",
       "4999             0              0                         0   \n",
       "\n",
       "      Ubicaciones_El Alquian  Ubicaciones_El Ejido  Ubicaciones_La Mojonera  \\\n",
       "0                          0                     1                        0   \n",
       "1                          0                     0                        0   \n",
       "2                          0                     0                        1   \n",
       "3                          0                     0                        0   \n",
       "4                          0                     1                        0   \n",
       "...                      ...                   ...                      ...   \n",
       "4995                       0                     0                        1   \n",
       "4996                       0                     0                        0   \n",
       "4997                       1                     0                        0   \n",
       "4998                       0                     0                        0   \n",
       "4999                       0                     0                        1   \n",
       "\n",
       "      Ubicaciones_Nijar  \n",
       "0                     0  \n",
       "1                     0  \n",
       "2                     0  \n",
       "3                     1  \n",
       "4                     0  \n",
       "...                 ...  \n",
       "4995                  0  \n",
       "4996                  0  \n",
       "4997                  0  \n",
       "4998                  0  \n",
       "4999                  0  \n",
       "\n",
       "[5000 rows x 16 columns]"
      ]
     },
     "execution_count": 49,
     "metadata": {},
     "output_type": "execute_result"
    }
   ],
   "source": [
    "#De esta manera ya no se tendrán valores no numericos en el array\n",
    "data_encoded = pd.get_dummies(df, columns=['Cultivo','Ubicaciones'])\n",
    "data_encoded"
   ]
  },
  {
   "cell_type": "code",
   "execution_count": 54,
   "id": "6d0257e5-87ea-4256-b316-84c9cd3b8e8c",
   "metadata": {},
   "outputs": [],
   "source": [
    "# Dividir los datos en características (X) y variable objetivo (y)\n",
    "X = data_encoded.drop('Rendimiento', axis=1)\n",
    "y = data_encoded['Rendimiento']"
   ]
  },
  {
   "cell_type": "code",
   "execution_count": 55,
   "id": "fc9a7d8d-007c-4e77-9134-e7e4d1bae956",
   "metadata": {},
   "outputs": [],
   "source": [
    "# Dividir los datos en conjuntos de entrenamiento y prueba\n",
    "X_train, X_test, y_train, y_test = train_test_split(X, y, test_size=0.2, random_state=42)"
   ]
  },
  {
   "cell_type": "code",
   "execution_count": 56,
   "id": "9ac0d4b2-852a-4020-9190-7ecda9424f89",
   "metadata": {},
   "outputs": [],
   "source": [
    "# Crear el modelo de árbol de decisión de regresión\n",
    "model = DecisionTreeRegressor()"
   ]
  },
  {
   "cell_type": "code",
   "execution_count": 57,
   "id": "d34263ab-9c19-46c9-8a5f-0ca964f4fc8a",
   "metadata": {},
   "outputs": [
    {
     "data": {
      "text/plain": [
       "DecisionTreeRegressor()"
      ]
     },
     "execution_count": 57,
     "metadata": {},
     "output_type": "execute_result"
    }
   ],
   "source": [
    "# Entrenar el modelo\n",
    "model.fit(X_train, y_train)"
   ]
  },
  {
   "cell_type": "code",
   "execution_count": 58,
   "id": "42d3cc31-891b-4dae-9518-a01c5e7fd3f9",
   "metadata": {},
   "outputs": [],
   "source": [
    "# Hacer predicciones en el conjunto de prueba\n",
    "y_pred = model.predict(X_test)"
   ]
  },
  {
   "cell_type": "code",
   "execution_count": 59,
   "id": "605f714b-daea-4936-9ff0-09ec7ba20542",
   "metadata": {},
   "outputs": [
    {
     "name": "stdout",
     "output_type": "stream",
     "text": [
      "Error cuadrático medio: 8.662067048522626\n"
     ]
    }
   ],
   "source": [
    "# Calcular el error cuadrático medio (MSE)\n",
    "mse = mean_squared_error(y_test, y_pred)\n",
    "print(\"Error cuadrático medio:\", mse)"
   ]
  },
  {
   "cell_type": "code",
   "execution_count": null,
   "id": "1094478a-19f0-4ede-b5e8-d778f8413988",
   "metadata": {},
   "outputs": [],
   "source": []
  },
  {
   "cell_type": "code",
   "execution_count": null,
   "id": "b383f07f-c46f-401c-beb4-c01acc2319fd",
   "metadata": {},
   "outputs": [],
   "source": []
  }
 ],
 "metadata": {
  "kernelspec": {
   "display_name": "Python 3 (ipykernel)",
   "language": "python",
   "name": "python3"
  },
  "language_info": {
   "codemirror_mode": {
    "name": "ipython",
    "version": 3
   },
   "file_extension": ".py",
   "mimetype": "text/x-python",
   "name": "python",
   "nbconvert_exporter": "python",
   "pygments_lexer": "ipython3",
   "version": "3.9.12"
  }
 },
 "nbformat": 4,
 "nbformat_minor": 5
}
