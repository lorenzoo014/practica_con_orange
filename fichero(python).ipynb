{
 "cells": [
  {
   "cell_type": "code",
   "execution_count": 1,
   "id": "5fb6cdd8-ada5-41d9-9223-282d7fa7e726",
   "metadata": {},
   "outputs": [],
   "source": [
    "import pandas as pd\n",
    "from sklearn.tree import DecisionTreeClassifier\n",
    "from sklearn.model_selection import train_test_split\n",
    "from sklearn.metrics import accuracy_score\n",
    "import matplotlib.pyplot as plt\n",
    "import seaborn as sns\n",
    "from sklearn.tree import DecisionTreeRegressor\n",
    "from sklearn.metrics import mean_squared_error\n",
    "from sklearn.model_selection import train_test_split\n",
    "from tensorflow.keras.utils import to_categorical"
   ]
  },
  {
   "cell_type": "code",
   "execution_count": 2,
   "id": "40a3d8a0-3e77-4f8e-a110-84a8a98e0ded",
   "metadata": {},
   "outputs": [],
   "source": [
    "from keras.models import Sequential\n",
    "from keras.layers import Dense"
   ]
  },
  {
   "cell_type": "code",
   "execution_count": 3,
   "id": "9396b9f2-f275-4cb9-9be0-d0d08f6ad93a",
   "metadata": {},
   "outputs": [],
   "source": [
    "#Cargamos el csv\n",
    "df = pd.read_csv('lista_tomates.csv')"
   ]
  },
  {
   "cell_type": "markdown",
   "id": "40e9e46a-ad04-4d40-8f53-14c344660fc5",
   "metadata": {},
   "source": [
    "# ANALISIS EXPLORATORIO DE LOS DATOS"
   ]
  },
  {
   "cell_type": "code",
   "execution_count": 4,
   "id": "2d8438ff-4b06-49ec-9d0b-a2eb12865b61",
   "metadata": {},
   "outputs": [
    {
     "data": {
      "text/html": [
       "<div>\n",
       "<style scoped>\n",
       "    .dataframe tbody tr th:only-of-type {\n",
       "        vertical-align: middle;\n",
       "    }\n",
       "\n",
       "    .dataframe tbody tr th {\n",
       "        vertical-align: top;\n",
       "    }\n",
       "\n",
       "    .dataframe thead th {\n",
       "        text-align: right;\n",
       "    }\n",
       "</style>\n",
       "<table border=\"1\" class=\"dataframe\">\n",
       "  <thead>\n",
       "    <tr style=\"text-align: right;\">\n",
       "      <th></th>\n",
       "      <th>Cultivo</th>\n",
       "      <th>Ubicaciones</th>\n",
       "      <th>Rendimiento</th>\n",
       "      <th>Tamano</th>\n",
       "      <th>Fertilizantes</th>\n",
       "    </tr>\n",
       "  </thead>\n",
       "  <tbody>\n",
       "    <tr>\n",
       "      <th>0</th>\n",
       "      <td>bola</td>\n",
       "      <td>El Ejido</td>\n",
       "      <td>8.01</td>\n",
       "      <td>1</td>\n",
       "      <td>True</td>\n",
       "    </tr>\n",
       "    <tr>\n",
       "      <th>1</th>\n",
       "      <td>de pera</td>\n",
       "      <td>Campohermoso</td>\n",
       "      <td>5.96</td>\n",
       "      <td>4</td>\n",
       "      <td>False</td>\n",
       "    </tr>\n",
       "    <tr>\n",
       "      <th>2</th>\n",
       "      <td>bola</td>\n",
       "      <td>La Mojonera</td>\n",
       "      <td>8.61</td>\n",
       "      <td>4</td>\n",
       "      <td>False</td>\n",
       "    </tr>\n",
       "    <tr>\n",
       "      <th>3</th>\n",
       "      <td>kumato</td>\n",
       "      <td>Nijar</td>\n",
       "      <td>9.85</td>\n",
       "      <td>4</td>\n",
       "      <td>True</td>\n",
       "    </tr>\n",
       "    <tr>\n",
       "      <th>4</th>\n",
       "      <td>rosa</td>\n",
       "      <td>El Ejido</td>\n",
       "      <td>9.17</td>\n",
       "      <td>4</td>\n",
       "      <td>False</td>\n",
       "    </tr>\n",
       "  </tbody>\n",
       "</table>\n",
       "</div>"
      ],
      "text/plain": [
       "    Cultivo   Ubicaciones  Rendimiento  Tamano  Fertilizantes\n",
       "0      bola      El Ejido         8.01       1           True\n",
       "1   de pera  Campohermoso         5.96       4          False\n",
       "2      bola   La Mojonera         8.61       4          False\n",
       "3    kumato         Nijar         9.85       4           True\n",
       "4      rosa      El Ejido         9.17       4          False"
      ]
     },
     "execution_count": 4,
     "metadata": {},
     "output_type": "execute_result"
    }
   ],
   "source": [
    "df.head()\n"
   ]
  },
  {
   "cell_type": "code",
   "execution_count": 5,
   "id": "e3cbeab2-8979-4faf-9968-946c96c140dc",
   "metadata": {},
   "outputs": [
    {
     "name": "stdout",
     "output_type": "stream",
     "text": [
      "<class 'pandas.core.frame.DataFrame'>\n",
      "RangeIndex: 5000 entries, 0 to 4999\n",
      "Data columns (total 5 columns):\n",
      " #   Column         Non-Null Count  Dtype  \n",
      "---  ------         --------------  -----  \n",
      " 0   Cultivo        5000 non-null   object \n",
      " 1   Ubicaciones    5000 non-null   object \n",
      " 2   Rendimiento    5000 non-null   float64\n",
      " 3   Tamano         5000 non-null   int64  \n",
      " 4   Fertilizantes  5000 non-null   bool   \n",
      "dtypes: bool(1), float64(1), int64(1), object(2)\n",
      "memory usage: 161.3+ KB\n"
     ]
    }
   ],
   "source": [
    "#Revisamos la información básica del DataFrame, como el número de filas, columnas y tipos de datos\n",
    "df.info()"
   ]
  },
  {
   "cell_type": "code",
   "execution_count": 6,
   "id": "b07bbdce-29e2-4c3b-924a-a18df732880b",
   "metadata": {},
   "outputs": [
    {
     "data": {
      "text/html": [
       "<div>\n",
       "<style scoped>\n",
       "    .dataframe tbody tr th:only-of-type {\n",
       "        vertical-align: middle;\n",
       "    }\n",
       "\n",
       "    .dataframe tbody tr th {\n",
       "        vertical-align: top;\n",
       "    }\n",
       "\n",
       "    .dataframe thead th {\n",
       "        text-align: right;\n",
       "    }\n",
       "</style>\n",
       "<table border=\"1\" class=\"dataframe\">\n",
       "  <thead>\n",
       "    <tr style=\"text-align: right;\">\n",
       "      <th></th>\n",
       "      <th>Rendimiento</th>\n",
       "      <th>Tamano</th>\n",
       "    </tr>\n",
       "  </thead>\n",
       "  <tbody>\n",
       "    <tr>\n",
       "      <th>count</th>\n",
       "      <td>5000.000000</td>\n",
       "      <td>5000.000000</td>\n",
       "    </tr>\n",
       "    <tr>\n",
       "      <th>mean</th>\n",
       "      <td>5.008944</td>\n",
       "      <td>2.476800</td>\n",
       "    </tr>\n",
       "    <tr>\n",
       "      <th>std</th>\n",
       "      <td>2.895066</td>\n",
       "      <td>1.115218</td>\n",
       "    </tr>\n",
       "    <tr>\n",
       "      <th>min</th>\n",
       "      <td>0.000000</td>\n",
       "      <td>1.000000</td>\n",
       "    </tr>\n",
       "    <tr>\n",
       "      <th>25%</th>\n",
       "      <td>2.490000</td>\n",
       "      <td>1.000000</td>\n",
       "    </tr>\n",
       "    <tr>\n",
       "      <th>50%</th>\n",
       "      <td>5.090000</td>\n",
       "      <td>2.000000</td>\n",
       "    </tr>\n",
       "    <tr>\n",
       "      <th>75%</th>\n",
       "      <td>7.510000</td>\n",
       "      <td>3.000000</td>\n",
       "    </tr>\n",
       "    <tr>\n",
       "      <th>max</th>\n",
       "      <td>9.990000</td>\n",
       "      <td>4.000000</td>\n",
       "    </tr>\n",
       "  </tbody>\n",
       "</table>\n",
       "</div>"
      ],
      "text/plain": [
       "       Rendimiento       Tamano\n",
       "count  5000.000000  5000.000000\n",
       "mean      5.008944     2.476800\n",
       "std       2.895066     1.115218\n",
       "min       0.000000     1.000000\n",
       "25%       2.490000     1.000000\n",
       "50%       5.090000     2.000000\n",
       "75%       7.510000     3.000000\n",
       "max       9.990000     4.000000"
      ]
     },
     "execution_count": 6,
     "metadata": {},
     "output_type": "execute_result"
    }
   ],
   "source": [
    "df.describe()"
   ]
  },
  {
   "cell_type": "code",
   "execution_count": 7,
   "id": "33c0e550-0e0b-4d1c-bff8-cb03f6677d7d",
   "metadata": {},
   "outputs": [
    {
     "data": {
      "text/plain": [
       "Cultivo          0\n",
       "Ubicaciones      0\n",
       "Rendimiento      0\n",
       "Tamano           0\n",
       "Fertilizantes    0\n",
       "dtype: int64"
      ]
     },
     "execution_count": 7,
     "metadata": {},
     "output_type": "execute_result"
    }
   ],
   "source": [
    "df.isnull().sum()"
   ]
  },
  {
   "cell_type": "code",
   "execution_count": 8,
   "id": "63f3c97a-0a95-4e45-b8ce-b7f70ba72366",
   "metadata": {},
   "outputs": [
    {
     "name": "stdout",
     "output_type": "stream",
     "text": [
      "Cantidad de Filas y columnas: (5000, 5)\n",
      "Nombre columnas: Index(['Cultivo', 'Ubicaciones', 'Rendimiento', 'Tamano', 'Fertilizantes'], dtype='object')\n"
     ]
    }
   ],
   "source": [
    "print('Cantidad de Filas y columnas:',df.shape)\n",
    "print('Nombre columnas:',df.columns)"
   ]
  },
  {
   "cell_type": "code",
   "execution_count": 9,
   "id": "60379d97-1eb3-4311-af4c-91e21c94d0a2",
   "metadata": {},
   "outputs": [
    {
     "data": {
      "text/plain": [
       "kumato             669\n",
       "Raf                646\n",
       " de pera           638\n",
       "corazon de buey    637\n",
       "rosa               603\n",
       "cherry             603\n",
       "bola               602\n",
       "verde              602\n",
       "Name: Cultivo, dtype: int64"
      ]
     },
     "execution_count": 9,
     "metadata": {},
     "output_type": "execute_result"
    }
   ],
   "source": [
    "df['Cultivo'].value_counts()"
   ]
  },
  {
   "cell_type": "code",
   "execution_count": 10,
   "id": "f3fc295a-64e8-43d3-972c-fb04b2bea910",
   "metadata": {},
   "outputs": [
    {
     "data": {
      "text/plain": [
       "False    2510\n",
       "True     2490\n",
       "Name: Fertilizantes, dtype: int64"
      ]
     },
     "execution_count": 10,
     "metadata": {},
     "output_type": "execute_result"
    }
   ],
   "source": [
    "df['Fertilizantes'].value_counts()"
   ]
  },
  {
   "cell_type": "code",
   "execution_count": 11,
   "id": "418a10e2-85cc-409c-af0f-8e9cdb02b44b",
   "metadata": {},
   "outputs": [
    {
     "data": {
      "image/png": "[encoded data removed]",
      "text/plain": [
       "<Figure size 432x288 with 2 Axes>"
      ]
     },
     "metadata": {
      "needs_background": "light"
     },
     "output_type": "display_data"
    }
   ],
   "source": [
    "#Visualizamos la distribución de los valores en las columnas numéricas mediante histogramas:\n",
    "df.hist()\n",
    "plt.show()"
   ]
  },
  {
   "cell_type": "code",
   "execution_count": 12,
   "id": "5784156c-2243-4b50-8c75-5ea7e2392d24",
   "metadata": {},
   "outputs": [
    {
     "data": {
      "image/png": "[encoded data removed]",
      "text/plain": [
       "<Figure size 432x288 with 2 Axes>"
      ]
     },
     "metadata": {
      "needs_background": "light"
     },
     "output_type": "display_data"
    }
   ],
   "source": [
    "#Calculamos la matriz de correlación entre las variables y visualizarla como un mapa de calor\n",
    "correlation_matrix = df.corr()\n",
    "sns.heatmap(correlation_matrix, annot=True)\n",
    "plt.show()"
   ]
  },
  {
   "cell_type": "code",
   "execution_count": 13,
   "id": "c4ff65cc-587f-4b6b-b881-111375dc2cd3",
   "metadata": {},
   "outputs": [
    {
     "data": {
      "text/html": [
       "<div>\n",
       "<style scoped>\n",
       "    .dataframe tbody tr th:only-of-type {\n",
       "        vertical-align: middle;\n",
       "    }\n",
       "\n",
       "    .dataframe tbody tr th {\n",
       "        vertical-align: top;\n",
       "    }\n",
       "\n",
       "    .dataframe thead th {\n",
       "        text-align: right;\n",
       "    }\n",
       "</style>\n",
       "<table border=\"1\" class=\"dataframe\">\n",
       "  <thead>\n",
       "    <tr style=\"text-align: right;\">\n",
       "      <th></th>\n",
       "      <th>Rendimiento</th>\n",
       "      <th>Tamano</th>\n",
       "      <th>Cultivo_ de pera</th>\n",
       "      <th>Cultivo_Raf</th>\n",
       "      <th>Cultivo_bola</th>\n",
       "      <th>Cultivo_cherry</th>\n",
       "      <th>Cultivo_corazon de buey</th>\n",
       "      <th>Cultivo_kumato</th>\n",
       "      <th>Cultivo_rosa</th>\n",
       "      <th>Cultivo_verde</th>\n",
       "      <th>Ubicaciones_Campohermoso</th>\n",
       "      <th>Ubicaciones_El Alquian</th>\n",
       "      <th>Ubicaciones_El Ejido</th>\n",
       "      <th>Ubicaciones_La Mojonera</th>\n",
       "      <th>Ubicaciones_Nijar</th>\n",
       "      <th>Fertilizantes_False</th>\n",
       "      <th>Fertilizantes_True</th>\n",
       "    </tr>\n",
       "  </thead>\n",
       "  <tbody>\n",
       "    <tr>\n",
       "      <th>0</th>\n",
       "      <td>8.01</td>\n",
       "      <td>1</td>\n",
       "      <td>0</td>\n",
       "      <td>0</td>\n",
       "      <td>1</td>\n",
       "      <td>0</td>\n",
       "      <td>0</td>\n",
       "      <td>0</td>\n",
       "      <td>0</td>\n",
       "      <td>0</td>\n",
       "      <td>0</td>\n",
       "      <td>0</td>\n",
       "      <td>1</td>\n",
       "      <td>0</td>\n",
       "      <td>0</td>\n",
       "      <td>0</td>\n",
       "      <td>1</td>\n",
       "    </tr>\n",
       "    <tr>\n",
       "      <th>1</th>\n",
       "      <td>5.96</td>\n",
       "      <td>4</td>\n",
       "      <td>1</td>\n",
       "      <td>0</td>\n",
       "      <td>0</td>\n",
       "      <td>0</td>\n",
       "      <td>0</td>\n",
       "      <td>0</td>\n",
       "      <td>0</td>\n",
       "      <td>0</td>\n",
       "      <td>1</td>\n",
       "      <td>0</td>\n",
       "      <td>0</td>\n",
       "      <td>0</td>\n",
       "      <td>0</td>\n",
       "      <td>1</td>\n",
       "      <td>0</td>\n",
       "    </tr>\n",
       "    <tr>\n",
       "      <th>2</th>\n",
       "      <td>8.61</td>\n",
       "      <td>4</td>\n",
       "      <td>0</td>\n",
       "      <td>0</td>\n",
       "      <td>1</td>\n",
       "      <td>0</td>\n",
       "      <td>0</td>\n",
       "      <td>0</td>\n",
       "      <td>0</td>\n",
       "      <td>0</td>\n",
       "      <td>0</td>\n",
       "      <td>0</td>\n",
       "      <td>0</td>\n",
       "      <td>1</td>\n",
       "      <td>0</td>\n",
       "      <td>1</td>\n",
       "      <td>0</td>\n",
       "    </tr>\n",
       "    <tr>\n",
       "      <th>3</th>\n",
       "      <td>9.85</td>\n",
       "      <td>4</td>\n",
       "      <td>0</td>\n",
       "      <td>0</td>\n",
       "      <td>0</td>\n",
       "      <td>0</td>\n",
       "      <td>0</td>\n",
       "      <td>1</td>\n",
       "      <td>0</td>\n",
       "      <td>0</td>\n",
       "      <td>0</td>\n",
       "      <td>0</td>\n",
       "      <td>0</td>\n",
       "      <td>0</td>\n",
       "      <td>1</td>\n",
       "      <td>0</td>\n",
       "      <td>1</td>\n",
       "    </tr>\n",
       "    <tr>\n",
       "      <th>4</th>\n",
       "      <td>9.17</td>\n",
       "      <td>4</td>\n",
       "      <td>0</td>\n",
       "      <td>0</td>\n",
       "      <td>0</td>\n",
       "      <td>0</td>\n",
       "      <td>0</td>\n",
       "      <td>0</td>\n",
       "      <td>1</td>\n",
       "      <td>0</td>\n",
       "      <td>0</td>\n",
       "      <td>0</td>\n",
       "      <td>1</td>\n",
       "      <td>0</td>\n",
       "      <td>0</td>\n",
       "      <td>1</td>\n",
       "      <td>0</td>\n",
       "    </tr>\n",
       "    <tr>\n",
       "      <th>...</th>\n",
       "      <td>...</td>\n",
       "      <td>...</td>\n",
       "      <td>...</td>\n",
       "      <td>...</td>\n",
       "      <td>...</td>\n",
       "      <td>...</td>\n",
       "      <td>...</td>\n",
       "      <td>...</td>\n",
       "      <td>...</td>\n",
       "      <td>...</td>\n",
       "      <td>...</td>\n",
       "      <td>...</td>\n",
       "      <td>...</td>\n",
       "      <td>...</td>\n",
       "      <td>...</td>\n",
       "      <td>...</td>\n",
       "      <td>...</td>\n",
       "    </tr>\n",
       "    <tr>\n",
       "      <th>4995</th>\n",
       "      <td>4.57</td>\n",
       "      <td>2</td>\n",
       "      <td>0</td>\n",
       "      <td>1</td>\n",
       "      <td>0</td>\n",
       "      <td>0</td>\n",
       "      <td>0</td>\n",
       "      <td>0</td>\n",
       "      <td>0</td>\n",
       "      <td>0</td>\n",
       "      <td>0</td>\n",
       "      <td>0</td>\n",
       "      <td>0</td>\n",
       "      <td>1</td>\n",
       "      <td>0</td>\n",
       "      <td>0</td>\n",
       "      <td>1</td>\n",
       "    </tr>\n",
       "    <tr>\n",
       "      <th>4996</th>\n",
       "      <td>5.82</td>\n",
       "      <td>1</td>\n",
       "      <td>0</td>\n",
       "      <td>1</td>\n",
       "      <td>0</td>\n",
       "      <td>0</td>\n",
       "      <td>0</td>\n",
       "      <td>0</td>\n",
       "      <td>0</td>\n",
       "      <td>0</td>\n",
       "      <td>1</td>\n",
       "      <td>0</td>\n",
       "      <td>0</td>\n",
       "      <td>0</td>\n",
       "      <td>0</td>\n",
       "      <td>1</td>\n",
       "      <td>0</td>\n",
       "    </tr>\n",
       "    <tr>\n",
       "      <th>4997</th>\n",
       "      <td>9.71</td>\n",
       "      <td>4</td>\n",
       "      <td>0</td>\n",
       "      <td>0</td>\n",
       "      <td>0</td>\n",
       "      <td>1</td>\n",
       "      <td>0</td>\n",
       "      <td>0</td>\n",
       "      <td>0</td>\n",
       "      <td>0</td>\n",
       "      <td>0</td>\n",
       "      <td>1</td>\n",
       "      <td>0</td>\n",
       "      <td>0</td>\n",
       "      <td>0</td>\n",
       "      <td>1</td>\n",
       "      <td>0</td>\n",
       "    </tr>\n",
       "    <tr>\n",
       "      <th>4998</th>\n",
       "      <td>1.69</td>\n",
       "      <td>2</td>\n",
       "      <td>0</td>\n",
       "      <td>0</td>\n",
       "      <td>0</td>\n",
       "      <td>1</td>\n",
       "      <td>0</td>\n",
       "      <td>0</td>\n",
       "      <td>0</td>\n",
       "      <td>0</td>\n",
       "      <td>1</td>\n",
       "      <td>0</td>\n",
       "      <td>0</td>\n",
       "      <td>0</td>\n",
       "      <td>0</td>\n",
       "      <td>0</td>\n",
       "      <td>1</td>\n",
       "    </tr>\n",
       "    <tr>\n",
       "      <th>4999</th>\n",
       "      <td>6.08</td>\n",
       "      <td>1</td>\n",
       "      <td>0</td>\n",
       "      <td>0</td>\n",
       "      <td>1</td>\n",
       "      <td>0</td>\n",
       "      <td>0</td>\n",
       "      <td>0</td>\n",
       "      <td>0</td>\n",
       "      <td>0</td>\n",
       "      <td>0</td>\n",
       "      <td>0</td>\n",
       "      <td>0</td>\n",
       "      <td>1</td>\n",
       "      <td>0</td>\n",
       "      <td>1</td>\n",
       "      <td>0</td>\n",
       "    </tr>\n",
       "  </tbody>\n",
       "</table>\n",
       "<p>5000 rows × 17 columns</p>\n",
       "</div>"
      ],
      "text/plain": [
       "      Rendimiento  Tamano  Cultivo_ de pera  Cultivo_Raf  Cultivo_bola  \\\n",
       "0            8.01       1                 0            0             1   \n",
       "1            5.96       4                 1            0             0   \n",
       "2            8.61       4                 0            0             1   \n",
       "3            9.85       4                 0            0             0   \n",
       "4            9.17       4                 0            0             0   \n",
       "...           ...     ...               ...          ...           ...   \n",
       "4995         4.57       2                 0            1             0   \n",
       "4996         5.82       1                 0            1             0   \n",
       "4997         9.71       4                 0            0             0   \n",
       "4998         1.69       2                 0            0             0   \n",
       "4999         6.08       1                 0            0             1   \n",
       "\n",
       "      Cultivo_cherry  Cultivo_corazon de buey  Cultivo_kumato  Cultivo_rosa  \\\n",
       "0                  0                        0               0             0   \n",
       "1                  0                        0               0             0   \n",
       "2                  0                        0               0             0   \n",
       "3                  0                        0               1             0   \n",
       "4                  0                        0               0             1   \n",
       "...              ...                      ...             ...           ...   \n",
       "4995               0                        0               0             0   \n",
       "4996               0                        0               0             0   \n",
       "4997               1                        0               0             0   \n",
       "4998               1                        0               0             0   \n",
       "4999               0                        0               0             0   \n",
       "\n",
       "      Cultivo_verde  Ubicaciones_Campohermoso  Ubicaciones_El Alquian  \\\n",
       "0                 0                         0                       0   \n",
       "1                 0                         1                       0   \n",
       "2                 0                         0                       0   \n",
       "3                 0                         0                       0   \n",
       "4                 0                         0                       0   \n",
       "...             ...                       ...                     ...   \n",
       "4995              0                         0                       0   \n",
       "4996              0                         1                       0   \n",
       "4997              0                         0                       1   \n",
       "4998              0                         1                       0   \n",
       "4999              0                         0                       0   \n",
       "\n",
       "      Ubicaciones_El Ejido  Ubicaciones_La Mojonera  Ubicaciones_Nijar  \\\n",
       "0                        1                        0                  0   \n",
       "1                        0                        0                  0   \n",
       "2                        0                        1                  0   \n",
       "3                        0                        0                  1   \n",
       "4                        1                        0                  0   \n",
       "...                    ...                      ...                ...   \n",
       "4995                     0                        1                  0   \n",
       "4996                     0                        0                  0   \n",
       "4997                     0                        0                  0   \n",
       "4998                     0                        0                  0   \n",
       "4999                     0                        1                  0   \n",
       "\n",
       "      Fertilizantes_False  Fertilizantes_True  \n",
       "0                       0                   1  \n",
       "1                       1                   0  \n",
       "2                       1                   0  \n",
       "3                       0                   1  \n",
       "4                       1                   0  \n",
       "...                   ...                 ...  \n",
       "4995                    0                   1  \n",
       "4996                    1                   0  \n",
       "4997                    1                   0  \n",
       "4998                    0                   1  \n",
       "4999                    1                   0  \n",
       "\n",
       "[5000 rows x 17 columns]"
      ]
     },
     "execution_count": 13,
     "metadata": {},
     "output_type": "execute_result"
    }
   ],
   "source": [
    "#De esta manera ya no se tendrán valores no numericos en el array\n",
    "data_encoded = pd.get_dummies(df, columns=['Cultivo','Ubicaciones','Fertilizantes'])\n",
    "data_encoded"
   ]
  },
  {
   "cell_type": "code",
   "execution_count": 14,
   "id": "6d0257e5-87ea-4256-b316-84c9cd3b8e8c",
   "metadata": {},
   "outputs": [],
   "source": [
    "# Dividir los datos en características (X) y variable objetivo (y)\n",
    "X = data_encoded.drop('Rendimiento', axis=1)\n",
    "y = data_encoded['Rendimiento']"
   ]
  },
  {
   "cell_type": "code",
   "execution_count": 15,
   "id": "fc9a7d8d-007c-4e77-9134-e7e4d1bae956",
   "metadata": {},
   "outputs": [],
   "source": [
    "# Dividir los datos en conjuntos de entrenamiento y prueba\n",
    "X_train, X_test, y_train, y_test = train_test_split(X, y, test_size=0.2, random_state=42)\n"
   ]
  },
  {
   "cell_type": "code",
   "execution_count": 16,
   "id": "9ac0d4b2-852a-4020-9190-7ecda9424f89",
   "metadata": {},
   "outputs": [],
   "source": [
    "# Crear el modelo de árbol de decisión de regresión\n",
    "model = DecisionTreeRegressor()"
   ]
  },
  {
   "cell_type": "code",
   "execution_count": 17,
   "id": "d34263ab-9c19-46c9-8a5f-0ca964f4fc8a",
   "metadata": {},
   "outputs": [
    {
     "data": {
      "text/plain": [
       "DecisionTreeRegressor()"
      ]
     },
     "execution_count": 17,
     "metadata": {},
     "output_type": "execute_result"
    }
   ],
   "source": [
    "# Entrenar el modelo\n",
    "model.fit(X_train, y_train)"
   ]
  },
  {
   "cell_type": "code",
   "execution_count": 18,
   "id": "42d3cc31-891b-4dae-9518-a01c5e7fd3f9",
   "metadata": {},
   "outputs": [],
   "source": [
    "# Hacer predicciones en el conjunto de prueba\n",
    "y_pred = model.predict(X_test)"
   ]
  },
  {
   "cell_type": "code",
   "execution_count": 19,
   "id": "605f714b-daea-4936-9ff0-09ec7ba20542",
   "metadata": {},
   "outputs": [
    {
     "name": "stdout",
     "output_type": "stream",
     "text": [
      "Error cuadrático medio: 8.662067048522626\n"
     ]
    }
   ],
   "source": [
    "# Calcular el error cuadrático medio (MSE)\n",
    "mse = mean_squared_error(y_test, y_pred)\n",
    "print(\"Error cuadrático medio:\", mse)"
   ]
  },
  {
   "cell_type": "code",
   "execution_count": 20,
   "id": "1094478a-19f0-4ede-b5e8-d778f8413988",
   "metadata": {},
   "outputs": [
    {
     "data": {
      "image/png": "[encoded data removed]",
      "text/plain": [
       "<Figure size 720x432 with 1 Axes>"
      ]
     },
     "metadata": {
      "needs_background": "light"
     },
     "output_type": "display_data"
    }
   ],
   "source": [
    "# Obtener las características más importantes del modelo\n",
    "importance = model.feature_importances_\n",
    "\n",
    "# Crear un gráfico de barras para mostrar la importancia de las variables\n",
    "plt.figure(figsize=(10, 6))\n",
    "plt.bar(X.columns, importance)\n",
    "plt.xticks(rotation=90)\n",
    "plt.xlabel('Variables')\n",
    "plt.ylabel('Importancia')\n",
    "plt.title('Importancia de las variables en el modelo de Árbol de Decisión de Regresión')\n",
    "plt.show()"
   ]
  },
  {
   "cell_type": "code",
   "execution_count": 21,
   "id": "c0c5af07-c3ea-484e-909b-e0ca4a118375",
   "metadata": {},
   "outputs": [
    {
     "data": {
      "image/png": "[encoded data removed]",
      "text/plain": [
       "<Figure size 720x720 with 2 Axes>"
      ]
     },
     "metadata": {
      "needs_background": "light"
     },
     "output_type": "display_data"
    }
   ],
   "source": [
    "# Explorar los datos y visualizar las variables\n",
    "# Por ejemplo, aquí se muestra un histograma para cada variable\n",
    "df.hist(figsize=(10, 10))\n",
    "plt.tight_layout()\n",
    "plt.show()"
   ]
  },
  {
   "cell_type": "code",
   "execution_count": 22,
   "id": "cd610e1a-b11a-43c9-82e2-2ff5716546bc",
   "metadata": {},
   "outputs": [],
   "source": [
    "# Crear el modelo de red neuronal\n",
    "model = Sequential()\n",
    "model.add(Dense(64, activation='relu', input_dim=X_train.shape[1]))\n",
    "model.add(Dense(64, activation='relu'))\n",
    "model.add(Dense(1, activation='linear'))\n"
   ]
  },
  {
   "cell_type": "code",
   "execution_count": 23,
   "id": "8763f7e0-ba1a-428c-95fd-89e106e781f6",
   "metadata": {},
   "outputs": [
    {
     "name": "stdout",
     "output_type": "stream",
     "text": [
      "Epoch 1/100\n",
      "125/125 [==============================] - 0s 2ms/step - loss: 12.9354 - val_loss: 8.5230\n",
      "Epoch 2/100\n",
      "125/125 [==============================] - 0s 912us/step - loss: 8.4656 - val_loss: 8.3998\n",
      "Epoch 3/100\n",
      "125/125 [==============================] - 0s 1ms/step - loss: 8.3858 - val_loss: 8.4171\n",
      "Epoch 4/100\n",
      "125/125 [==============================] - 0s 905us/step - loss: 8.3761 - val_loss: 8.4215\n",
      "Epoch 5/100\n",
      "125/125 [==============================] - 0s 940us/step - loss: 8.3522 - val_loss: 8.4056\n",
      "Epoch 6/100\n",
      "125/125 [==============================] - 0s 929us/step - loss: 8.3155 - val_loss: 8.3677\n",
      "Epoch 7/100\n",
      "125/125 [==============================] - 0s 960us/step - loss: 8.3301 - val_loss: 8.6206\n",
      "Epoch 8/100\n",
      "125/125 [==============================] - 0s 1ms/step - loss: 8.3056 - val_loss: 8.4236\n",
      "Epoch 9/100\n",
      "125/125 [==============================] - 0s 1ms/step - loss: 8.3145 - val_loss: 8.4156\n",
      "Epoch 10/100\n",
      "125/125 [==============================] - 0s 905us/step - loss: 8.3516 - val_loss: 8.3927\n",
      "Epoch 11/100\n",
      "125/125 [==============================] - 0s 922us/step - loss: 8.2907 - val_loss: 8.3800\n",
      "Epoch 12/100\n",
      "125/125 [==============================] - 0s 927us/step - loss: 8.2571 - val_loss: 8.4931\n",
      "Epoch 13/100\n",
      "125/125 [==============================] - 0s 817us/step - loss: 8.2614 - val_loss: 8.4374\n",
      "Epoch 14/100\n",
      "125/125 [==============================] - 0s 925us/step - loss: 8.2688 - val_loss: 8.4600\n",
      "Epoch 15/100\n",
      "125/125 [==============================] - 0s 1ms/step - loss: 8.2515 - val_loss: 8.4297\n",
      "Epoch 16/100\n",
      "125/125 [==============================] - 0s 1ms/step - loss: 8.2312 - val_loss: 8.3998\n",
      "Epoch 17/100\n",
      "125/125 [==============================] - 0s 1ms/step - loss: 8.2582 - val_loss: 8.4174\n",
      "Epoch 18/100\n",
      "125/125 [==============================] - 0s 926us/step - loss: 8.2372 - val_loss: 8.3843\n",
      "Epoch 19/100\n",
      "125/125 [==============================] - 0s 931us/step - loss: 8.2342 - val_loss: 8.4237\n",
      "Epoch 20/100\n",
      "125/125 [==============================] - 0s 1ms/step - loss: 8.2403 - val_loss: 8.4064\n",
      "Epoch 21/100\n",
      "125/125 [==============================] - 0s 867us/step - loss: 8.2010 - val_loss: 8.4113\n",
      "Epoch 22/100\n",
      "125/125 [==============================] - 0s 886us/step - loss: 8.2088 - val_loss: 8.4007\n",
      "Epoch 23/100\n",
      "125/125 [==============================] - 0s 920us/step - loss: 8.1992 - val_loss: 8.5359\n",
      "Epoch 24/100\n",
      "125/125 [==============================] - 0s 978us/step - loss: 8.1913 - val_loss: 8.5124\n",
      "Epoch 25/100\n",
      "125/125 [==============================] - 0s 807us/step - loss: 8.1759 - val_loss: 8.4370\n",
      "Epoch 26/100\n",
      "125/125 [==============================] - 0s 851us/step - loss: 8.1509 - val_loss: 8.4409\n",
      "Epoch 27/100\n",
      "125/125 [==============================] - 0s 994us/step - loss: 8.1480 - val_loss: 8.4871\n",
      "Epoch 28/100\n",
      "125/125 [==============================] - 0s 984us/step - loss: 8.1363 - val_loss: 8.6040\n",
      "Epoch 29/100\n",
      "125/125 [==============================] - 0s 809us/step - loss: 8.1414 - val_loss: 8.4464\n",
      "Epoch 30/100\n",
      "125/125 [==============================] - 0s 873us/step - loss: 8.1466 - val_loss: 8.6101\n",
      "Epoch 31/100\n",
      "125/125 [==============================] - 0s 1ms/step - loss: 8.1690 - val_loss: 8.3972\n",
      "Epoch 32/100\n",
      "125/125 [==============================] - 0s 940us/step - loss: 8.1565 - val_loss: 8.4600\n",
      "Epoch 33/100\n",
      "125/125 [==============================] - 0s 900us/step - loss: 8.1792 - val_loss: 8.4751\n",
      "Epoch 34/100\n",
      "125/125 [==============================] - 0s 919us/step - loss: 8.1510 - val_loss: 8.5491\n",
      "Epoch 35/100\n",
      "125/125 [==============================] - 0s 992us/step - loss: 8.1290 - val_loss: 8.4694\n",
      "Epoch 36/100\n",
      "125/125 [==============================] - 0s 1ms/step - loss: 8.1153 - val_loss: 8.5095\n",
      "Epoch 37/100\n",
      "125/125 [==============================] - 0s 1ms/step - loss: 8.1048 - val_loss: 8.4678\n",
      "Epoch 38/100\n",
      "125/125 [==============================] - 0s 1ms/step - loss: 8.0988 - val_loss: 8.4551\n",
      "Epoch 39/100\n",
      "125/125 [==============================] - 0s 1ms/step - loss: 8.1138 - val_loss: 8.4688\n",
      "Epoch 40/100\n",
      "125/125 [==============================] - 0s 1ms/step - loss: 8.1020 - val_loss: 8.4982\n",
      "Epoch 41/100\n",
      "125/125 [==============================] - 0s 899us/step - loss: 8.0995 - val_loss: 8.4624\n",
      "Epoch 42/100\n",
      "125/125 [==============================] - 0s 898us/step - loss: 8.0834 - val_loss: 8.4468\n",
      "Epoch 43/100\n",
      "125/125 [==============================] - 0s 971us/step - loss: 8.1036 - val_loss: 8.4922\n",
      "Epoch 44/100\n",
      "125/125 [==============================] - 0s 996us/step - loss: 8.1066 - val_loss: 8.5846\n",
      "Epoch 45/100\n",
      "125/125 [==============================] - 0s 974us/step - loss: 8.0814 - val_loss: 8.5481\n",
      "Epoch 46/100\n",
      "125/125 [==============================] - 0s 948us/step - loss: 8.0914 - val_loss: 8.5258\n",
      "Epoch 47/100\n",
      "125/125 [==============================] - 0s 858us/step - loss: 8.0771 - val_loss: 8.5397\n",
      "Epoch 48/100\n",
      "125/125 [==============================] - 0s 805us/step - loss: 8.0671 - val_loss: 8.5164\n",
      "Epoch 49/100\n",
      "125/125 [==============================] - 0s 931us/step - loss: 8.0539 - val_loss: 8.4860\n",
      "Epoch 50/100\n",
      "125/125 [==============================] - 0s 857us/step - loss: 8.0318 - val_loss: 8.5361\n",
      "Epoch 51/100\n",
      "125/125 [==============================] - 0s 886us/step - loss: 8.0652 - val_loss: 8.4536\n",
      "Epoch 52/100\n",
      "125/125 [==============================] - 0s 945us/step - loss: 8.0389 - val_loss: 8.5292\n",
      "Epoch 53/100\n",
      "125/125 [==============================] - 0s 972us/step - loss: 8.0310 - val_loss: 8.4936\n",
      "Epoch 54/100\n",
      "125/125 [==============================] - 0s 989us/step - loss: 8.0397 - val_loss: 8.5585\n",
      "Epoch 55/100\n",
      "125/125 [==============================] - 0s 979us/step - loss: 8.0539 - val_loss: 8.5038\n",
      "Epoch 56/100\n",
      "125/125 [==============================] - 0s 996us/step - loss: 8.0646 - val_loss: 8.4600\n",
      "Epoch 57/100\n",
      "125/125 [==============================] - 0s 911us/step - loss: 8.0248 - val_loss: 8.5010\n",
      "Epoch 58/100\n",
      "125/125 [==============================] - 0s 910us/step - loss: 8.0922 - val_loss: 8.4759\n",
      "Epoch 59/100\n",
      "125/125 [==============================] - 0s 939us/step - loss: 8.0379 - val_loss: 8.4675\n",
      "Epoch 60/100\n",
      "125/125 [==============================] - 0s 847us/step - loss: 8.0204 - val_loss: 8.5580\n",
      "Epoch 61/100\n",
      "125/125 [==============================] - 0s 961us/step - loss: 8.0447 - val_loss: 8.4761\n",
      "Epoch 62/100\n",
      "125/125 [==============================] - 0s 1ms/step - loss: 8.0272 - val_loss: 8.5211\n",
      "Epoch 63/100\n",
      "125/125 [==============================] - 0s 1ms/step - loss: 8.0031 - val_loss: 8.5193\n",
      "Epoch 64/100\n",
      "125/125 [==============================] - 0s 1ms/step - loss: 8.0410 - val_loss: 8.4969\n",
      "Epoch 65/100\n",
      "125/125 [==============================] - 0s 1ms/step - loss: 8.0318 - val_loss: 8.5171\n",
      "Epoch 66/100\n",
      "125/125 [==============================] - 0s 1ms/step - loss: 7.9930 - val_loss: 8.6087\n",
      "Epoch 67/100\n",
      "125/125 [==============================] - 0s 1ms/step - loss: 8.0712 - val_loss: 8.5127\n",
      "Epoch 68/100\n",
      "125/125 [==============================] - 0s 1ms/step - loss: 8.0267 - val_loss: 8.6396\n",
      "Epoch 69/100\n",
      "125/125 [==============================] - 0s 1ms/step - loss: 8.0118 - val_loss: 8.5265\n",
      "Epoch 70/100\n",
      "125/125 [==============================] - 0s 1ms/step - loss: 8.0119 - val_loss: 8.8539\n",
      "Epoch 71/100\n",
      "125/125 [==============================] - 0s 1ms/step - loss: 8.0164 - val_loss: 8.4869\n",
      "Epoch 72/100\n",
      "125/125 [==============================] - 0s 1ms/step - loss: 8.0125 - val_loss: 8.4991\n",
      "Epoch 73/100\n",
      "125/125 [==============================] - 0s 978us/step - loss: 8.0252 - val_loss: 8.5683\n",
      "Epoch 74/100\n",
      "125/125 [==============================] - 0s 917us/step - loss: 8.0683 - val_loss: 8.4920\n",
      "Epoch 75/100\n",
      "125/125 [==============================] - 0s 945us/step - loss: 8.0146 - val_loss: 8.5708\n",
      "Epoch 76/100\n",
      "125/125 [==============================] - 0s 937us/step - loss: 7.9933 - val_loss: 8.5637\n",
      "Epoch 77/100\n",
      "125/125 [==============================] - 0s 936us/step - loss: 7.9815 - val_loss: 8.5957\n",
      "Epoch 78/100\n",
      "125/125 [==============================] - 0s 1ms/step - loss: 7.9920 - val_loss: 8.5151\n",
      "Epoch 79/100\n",
      "125/125 [==============================] - 0s 1ms/step - loss: 7.9752 - val_loss: 8.4916\n",
      "Epoch 80/100\n",
      "125/125 [==============================] - 0s 1ms/step - loss: 7.9856 - val_loss: 8.5941\n",
      "Epoch 81/100\n",
      "125/125 [==============================] - 0s 1ms/step - loss: 8.0230 - val_loss: 8.5066\n",
      "Epoch 82/100\n",
      "125/125 [==============================] - 0s 1ms/step - loss: 7.9847 - val_loss: 8.5487\n",
      "Epoch 83/100\n",
      "125/125 [==============================] - 0s 1ms/step - loss: 8.0137 - val_loss: 8.4879\n",
      "Epoch 84/100\n",
      "125/125 [==============================] - 0s 1ms/step - loss: 7.9936 - val_loss: 8.4674\n",
      "Epoch 85/100\n",
      "125/125 [==============================] - 0s 993us/step - loss: 7.9762 - val_loss: 8.5155\n",
      "Epoch 86/100\n",
      "125/125 [==============================] - 0s 945us/step - loss: 7.9895 - val_loss: 8.5260\n",
      "Epoch 87/100\n",
      "125/125 [==============================] - 0s 1ms/step - loss: 7.9729 - val_loss: 8.4817\n",
      "Epoch 88/100\n",
      "125/125 [==============================] - 0s 1ms/step - loss: 7.9712 - val_loss: 8.4930\n",
      "Epoch 89/100\n",
      "125/125 [==============================] - 0s 1ms/step - loss: 7.9865 - val_loss: 8.5560\n",
      "Epoch 90/100\n",
      "125/125 [==============================] - 0s 1ms/step - loss: 7.9867 - val_loss: 8.6008\n",
      "Epoch 91/100\n",
      "125/125 [==============================] - 0s 992us/step - loss: 7.9771 - val_loss: 8.6877\n",
      "Epoch 92/100\n",
      "125/125 [==============================] - 0s 918us/step - loss: 7.9642 - val_loss: 8.6694\n",
      "Epoch 93/100\n",
      "125/125 [==============================] - 0s 936us/step - loss: 7.9618 - val_loss: 8.4897\n",
      "Epoch 94/100\n",
      "125/125 [==============================] - 0s 1ms/step - loss: 7.9609 - val_loss: 8.4795\n",
      "Epoch 95/100\n",
      "125/125 [==============================] - 0s 1ms/step - loss: 7.9528 - val_loss: 8.5172\n",
      "Epoch 96/100\n",
      "125/125 [==============================] - 0s 1ms/step - loss: 7.9598 - val_loss: 8.5861\n",
      "Epoch 97/100\n",
      "125/125 [==============================] - 0s 1ms/step - loss: 7.9581 - val_loss: 8.4805\n",
      "Epoch 98/100\n",
      "125/125 [==============================] - 0s 1ms/step - loss: 7.9866 - val_loss: 8.4873\n",
      "Epoch 99/100\n",
      "125/125 [==============================] - 0s 917us/step - loss: 7.9772 - val_loss: 8.6121\n",
      "Epoch 100/100\n",
      "125/125 [==============================] - 0s 927us/step - loss: 7.9602 - val_loss: 8.5175\n"
     ]
    }
   ],
   "source": [
    "# Compilar el modelo\n",
    "model.compile(loss='mean_squared_error', optimizer='adam')\n",
    "# Entrenar el modelo\n",
    "history = model.fit(X_train, y_train, validation_data=(X_test, y_test), epochs=100, batch_size=32)\n"
   ]
  },
  {
   "cell_type": "code",
   "execution_count": 24,
   "id": "ade0813f-00a3-4d8e-9ff0-cc68cea2a1ae",
   "metadata": {},
   "outputs": [
    {
     "data": {
      "image/png": "[encoded data removed]",
      "text/plain": [
       "<Figure size 432x288 with 1 Axes>"
      ]
     },
     "metadata": {
      "needs_background": "light"
     },
     "output_type": "display_data"
    }
   ],
   "source": [
    "# Visualizar la pérdida durante el entrenamiento\n",
    "plt.plot(history.history['loss'], label='Training Loss')\n",
    "plt.plot(history.history['val_loss'], label='Validation Loss')\n",
    "plt.xlabel('Epochs')\n",
    "plt.ylabel('Loss')\n",
    "plt.title('Training and Validation Loss')\n",
    "plt.legend()\n",
    "plt.show()"
   ]
  }
 ],
 "metadata": {
  "kernelspec": {
   "display_name": "Python 3 (ipykernel)",
   "language": "python",
   "name": "python3"
  },
  "language_info": {
   "codemirror_mode": {
    "name": "ipython",
    "version": 3
   },
   "file_extension": ".py",
   "mimetype": "text/x-python",
   "name": "python",
   "nbconvert_exporter": "python",
   "pygments_lexer": "ipython3",
   "version": "3.9.12"
  }
 },
 "nbformat": 4,
 "nbformat_minor": 5
}
